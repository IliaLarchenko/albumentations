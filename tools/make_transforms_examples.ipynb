{
 "cells": [
  {
   "cell_type": "markdown",
   "metadata": {},
   "source": [
    "# Docs generator for Image only transforms "
   ]
  },
  {
   "cell_type": "markdown",
   "metadata": {},
   "source": [
    "This notebook helps to create docs with examples of transforms.\n",
    "Instruction:\n",
    "\n",
    "1. Change the value of `augmentation_name` to the name of augmentation you want to create docs for.\n",
    "2. Change the value of `options` list, each item of the list should correspond to the set of acceptable parameters for your transformation, that you want to demonstrate in docs.\n",
    "3. Optional. Change the path to the image you want to use for the demonstration.\n",
    "4. \"Run all\" the notebook.\n",
    "5. Demonstration image and rst document will be created and altered automatically.\n",
    "6. Commit, push, and make PR according to the contribution instruction."
   ]
  },
  {
   "cell_type": "code",
   "execution_count": null,
   "metadata": {},
   "outputs": [],
   "source": [
    "#change this variables\n",
    "augmentation_name = 'RGBShift' \n",
    "options = ['(r_shift_limit=20, g_shift_limit=20, b_shift_limit=20, p=1.0)',\n",
    "           '(r_shift_limit=20, g_shift_limit=20, b_shift_limit=20, p=1.0)',\n",
    "           '(r_shift_limit=(20,21) , g_shift_limit=0, b_shift_limit=0, p=1.0)',\n",
    "           '(r_shift_limit=0 , g_shift_limit=(-21,-20), b_shift_limit=0, p=1.0)',\n",
    "           '(r_shift_limit=0, g_shift_limit=0, b_shift_limit=(30,31), p=1.0)',\n",
    "          ]"
   ]
  },
  {
   "cell_type": "code",
   "execution_count": null,
   "metadata": {},
   "outputs": [],
   "source": [
    "path_to_the_docs = '../docs/augs_overview/image_only/'\n",
    "path_to_image = 'images/original_parrot.jpg'"
   ]
  },
  {
   "cell_type": "code",
   "execution_count": null,
   "metadata": {},
   "outputs": [],
   "source": [
    "import albumentations as A\n",
    "import numpy as np\n",
    "\n",
    "import matplotlib.pyplot as plt\n",
    "import cv2\n",
    "import os"
   ]
  },
  {
   "cell_type": "code",
   "execution_count": null,
   "metadata": {},
   "outputs": [],
   "source": [
    "%matplotlib inline"
   ]
  },
  {
   "cell_type": "code",
   "execution_count": null,
   "metadata": {},
   "outputs": [],
   "source": [
    "# reading the image\n",
    "image = cv2.imread(path_to_image)\n",
    "image = cv2.cvtColor(image, cv2.COLOR_BGR2RGB)"
   ]
  },
  {
   "cell_type": "code",
   "execution_count": null,
   "metadata": {},
   "outputs": [],
   "source": [
    "# creating the demo image\n",
    "num_options = len(options)\n",
    "\n",
    "# grid shape depends on number of examples\n",
    "if num_options == 1:\n",
    "    f, ax = plt.subplots(1, 2, figsize=(15, 10))\n",
    "elif num_options == 3:\n",
    "    f, ax = plt.subplots(2, 2, figsize=(15, 10))\n",
    "else:\n",
    "    rows = (num_options +1) // 3 + ((num_options +1) % 3 != 0)\n",
    "    f, ax = plt.subplots(rows, 3, figsize=(21, rows * 5))\n",
    "\n",
    "# plotting the original image\n",
    "ax = ax.flatten()\n",
    "ax[0].imshow(image)\n",
    "ax[0].set_title('1. Original image')\n",
    "ax[0].axis('off')\n",
    "\n",
    "# applying all provided variations of transformation and plotting the result\n",
    "for i in range(num_options):\n",
    "    exec('augmentation = A.' + augmentation_name + options[i])\n",
    "    ax[i+1].imshow(augmentation(image = image)['image'])\n",
    "    title = str(i+2) + '. ' + augmentation_name + options[i]\n",
    "    if len(title) > 30:\n",
    "        divider_pos = title.find(', ', 25)\n",
    "        title = title[:divider_pos+1] + '\\n' + title[divider_pos+1:]\n",
    "    ax[i+1].set_title(title)\n",
    "    ax[i+1].axis('off')\n",
    "\n",
    "# hiding unused axis\n",
    "for j in range(i+1, len(ax)):\n",
    "    ax[j].axis('off')\n",
    "    \n",
    "f.savefig(os.path.join(path_to_the_docs, 'images', augmentation_name + \".jpg\"), bbox_inches='tight')"
   ]
  },
  {
   "cell_type": "code",
   "execution_count": null,
   "metadata": {},
   "outputs": [],
   "source": []
  },
  {
   "cell_type": "code",
   "execution_count": null,
   "metadata": {},
   "outputs": [],
   "source": [
    "# opening the rst file\n",
    "file = open(os.path.join(path_to_the_docs, 'image_only.rst'),\"a\")\n",
    "\n",
    "# filling the header\n",
    "file.writelines('\\n'.join(\n",
    "                [\n",
    "                '',\n",
    "                augmentation_name,\n",
    "                '-------------------',\n",
    "                '',\n",
    "                '',\n",
    "                'API link: :class:`~albumentations.augmentations.transforms.' + augmentation_name + '`',\n",
    "                '',\n",
    "                '',\n",
    "                '1. Original image',\n",
    "                ]))\n",
    "file.writelines('\\n')\n",
    "\n",
    "# filling the list of the options\n",
    "file.writelines('\\n'.join(\n",
    "                [str(i+2) + '. :code:`' + augmentation_name + options[i] +'`' for i in range(num_options)]))\n",
    "file.writelines('\\n')\n",
    "\n",
    "# adding the image\n",
    "file.writelines('\\n'.join(\n",
    "                [\n",
    "                 '',\n",
    "                 '.. figure:: ./images/' + augmentation_name + '.jpg',\n",
    "                 '    :alt: ' + augmentation_name + ' image'\n",
    "                ]))\n",
    "file.writelines('\\n')\n",
    "file.close() "
   ]
  },
  {
   "cell_type": "code",
   "execution_count": null,
   "metadata": {},
   "outputs": [],
   "source": []
  }
 ],
 "metadata": {
  "kernelspec": {
   "display_name": "Python 3",
   "language": "python",
   "name": "python3"
  },
  "language_info": {
   "codemirror_mode": {
    "name": "ipython",
    "version": 3
   },
   "file_extension": ".py",
   "mimetype": "text/x-python",
   "name": "python",
   "nbconvert_exporter": "python",
   "pygments_lexer": "ipython3",
   "version": "3.7.3"
  }
 },
 "nbformat": 4,
 "nbformat_minor": 4
}
